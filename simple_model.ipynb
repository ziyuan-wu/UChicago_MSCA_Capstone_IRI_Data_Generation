{
 "cells": [
  {
   "cell_type": "code",
   "execution_count": 1,
   "id": "6f73e196",
   "metadata": {},
   "outputs": [],
   "source": [
    "import pandas as pd\n",
    "import numpy as np\n",
    "from datetime import datetime\n",
    "%matplotlib inline\n",
    "import matplotlib.pyplot as plt"
   ]
  },
  {
   "cell_type": "code",
   "execution_count": 6,
   "id": "1a2798b6",
   "metadata": {
    "scrolled": true
   },
   "outputs": [
    {
     "name": "stderr",
     "output_type": "stream",
     "text": [
      "/software/python-anaconda-2021.05-el7-x86_64/lib/python3.8/site-packages/numpy/lib/arraysetops.py:583: FutureWarning: elementwise comparison failed; returning scalar instead, but in the future will perform elementwise comparison\n",
      "  mask |= (ar1 == a)\n"
     ]
    }
   ],
   "source": [
    "df = pd.read_csv('~/IRI/store_drug_combined_total.csv', index_col=0)"
   ]
  },
  {
   "cell_type": "code",
   "execution_count": 10,
   "id": "e3e2bfc7",
   "metadata": {},
   "outputs": [],
   "source": [
    "df['F'] = pd.Categorical(df['F'])\n",
    "df['D'] = pd.Categorical(df['D'])\n",
    "df['PR'] = pd.Categorical(df['PR'])"
   ]
  },
  {
   "cell_type": "code",
   "execution_count": null,
   "id": "e47cbec2",
   "metadata": {},
   "outputs": [],
   "source": [
    "from sdv.tabular import CTGAN\n",
    "\n",
    "import timeit\n",
    "\n",
    "start = timeit.default_timer()\n",
    "\n",
    "\n",
    "model = CTGAN()\n",
    "model.fit(df)\n",
    "\n",
    "\n",
    "stop = timeit.default_timer()\n",
    "\n",
    "print('Time: ', stop - start)  "
   ]
  },
  {
   "cell_type": "code",
   "execution_count": null,
   "id": "d7c25b46",
   "metadata": {},
   "outputs": [],
   "source": [
    " new_data = model.sample(num_rows=200)"
   ]
  },
  {
   "cell_type": "code",
   "execution_count": null,
   "id": "b6aaeeaf",
   "metadata": {},
   "outputs": [],
   "source": [
    "model.save('~/IRI/simple_model.pkl')"
   ]
  }
 ],
 "metadata": {
  "kernelspec": {
   "display_name": "Python 3",
   "language": "python",
   "name": "python3"
  },
  "language_info": {
   "codemirror_mode": {
    "name": "ipython",
    "version": 3
   },
   "file_extension": ".py",
   "mimetype": "text/x-python",
   "name": "python",
   "nbconvert_exporter": "python",
   "pygments_lexer": "ipython3",
   "version": "3.8.8"
  }
 },
 "nbformat": 4,
 "nbformat_minor": 5
}
